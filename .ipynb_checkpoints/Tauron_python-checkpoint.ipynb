{
 "cells": [
  {
   "cell_type": "code",
   "outputs": [],
   "source": [
    "import csv\n",
    "\n",
    "# Specify the input and output file paths\n",
    "input_file_path = 'TAURON - BSA - aktualny.csv'\n",
    "output_file_path = 'TAURON - BSA - aktualny.csv'\n",
    "name_to_keep = 'bieruńsko-lędziński'  # Specify the name to keep\n",
    "\n",
    "# Read the CSV file\n",
    "with open(input_file_path, 'r', encoding='utf-8') as csvfile:\n",
    "    # Create a CSV reader object\n",
    "    reader = csv.reader(csvfile)\n",
    "\n",
    "    # Read the header\n",
    "    header = next(reader)\n",
    "\n",
    "    # Identify the index of the column containing names\n",
    "    powiat_index = header.index('Powiat')  # Replace 'Name' with the actual column header\n",
    "\n",
    "    # Create a list to store rows that satisfy the condition\n",
    "    filtered_rows = [header]\n",
    "\n",
    "    for row in reader:\n",
    "        # Check if the name is in the specified column\n",
    "        if name_to_keep in row[powiat_index]:\n",
    "            # Append the row to the list\n",
    "            filtered_rows.append(row)\n",
    "\n",
    "# Write the filtered data to a new CSV file\n",
    "with open(output_file_path, 'w', newline='') as csvfile:\n",
    "    # Create a CSV writer object\n",
    "    writer = csv.writer(csvfile)\n",
    "\n",
    "    # Write the filtered rows\n",
    "    writer.writerows(filtered_rows)"
   ],
   "metadata": {
    "collapsed": false,
    "ExecuteTime": {
     "end_time": "2024-01-12T00:09:04.349389300Z",
     "start_time": "2024-01-12T00:09:03.868263400Z"
    }
   },
   "id": "80f93ed49af5810d",
   "execution_count": 2
  },
  {
   "cell_type": "code",
   "outputs": [
    {
     "ename": "ModuleNotFoundError",
     "evalue": "No module named 'pandas'",
     "output_type": "error",
     "traceback": [
      "\u001B[1;31m---------------------------------------------------------------------------\u001B[0m",
      "\u001B[1;31mModuleNotFoundError\u001B[0m                       Traceback (most recent call last)",
      "Cell \u001B[1;32mIn[3], line 1\u001B[0m\n\u001B[1;32m----> 1\u001B[0m \u001B[38;5;28;01mimport\u001B[39;00m \u001B[38;5;21;01mpandas\u001B[39;00m \u001B[38;5;28;01mas\u001B[39;00m \u001B[38;5;21;01mpd\u001B[39;00m\n\u001B[0;32m      3\u001B[0m \u001B[38;5;66;03m# Specify the input and output file paths\u001B[39;00m\n\u001B[0;32m      4\u001B[0m input_file_path \u001B[38;5;241m=\u001B[39m \u001B[38;5;124m'\u001B[39m\u001B[38;5;124mTAURON - BSA - aktualny.csv\u001B[39m\u001B[38;5;124m'\u001B[39m\n",
      "\u001B[1;31mModuleNotFoundError\u001B[0m: No module named 'pandas'"
     ]
    }
   ],
   "source": [
    "import pandas as pd\n",
    "\n",
    "# Specify the input and output file paths\n",
    "input_file_path = 'TAURON - BSA - aktualny.csv'\n",
    "output_file_path = 'TAURON - BSA - aktualny.csv'\n",
    "\n",
    "# Read the CSV file into a DataFrame\n",
    "df = pd.read_csv(input_file_path)\n",
    "\n",
    "# Specify the columns to drop\n",
    "columns_to_drop = ['Lp', 'ID CPPC', 'ID BUDYNKU', 'Obszar inwestycyjny TOK']  # Replace with the actual column names you want to drop\n",
    "\n",
    "# Drop the specified columns\n",
    "df = df.drop(columns=columns_to_drop)\n",
    "\n",
    "# Write the modified DataFrame to a new CSV file\n",
    "df.to_csv(output_file_path, index=False)"
   ],
   "metadata": {
    "collapsed": false,
    "ExecuteTime": {
     "end_time": "2024-01-12T00:11:04.718913800Z",
     "start_time": "2024-01-12T00:11:04.690687500Z"
    }
   },
   "id": "bbef6059b941e39",
   "execution_count": 3
  },
  {
   "cell_type": "code",
   "outputs": [],
   "source": [],
   "metadata": {
    "collapsed": false
   },
   "id": "13b83f79ba5cdd25"
  }
 ],
 "metadata": {
  "kernelspec": {
   "display_name": "Python 3 (ipykernel)",
   "language": "python",
   "name": "python3"
  },
  "language_info": {
   "codemirror_mode": {
    "name": "ipython",
    "version": 3
   },
   "file_extension": ".py",
   "mimetype": "text/x-python",
   "name": "python",
   "nbconvert_exporter": "python",
   "pygments_lexer": "ipython3",
   "version": "3.12.0"
  }
 },
 "nbformat": 4,
 "nbformat_minor": 5
}
