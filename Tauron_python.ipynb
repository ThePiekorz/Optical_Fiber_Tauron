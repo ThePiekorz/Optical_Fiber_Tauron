{
 "cells": [
  {
   "cell_type": "code",
   "execution_count": 5,
   "id": "80f93ed49af5810d",
   "metadata": {
    "collapsed": false,
    "ExecuteTime": {
     "end_time": "2024-01-12T00:27:59.320845700Z",
     "start_time": "2024-01-12T00:27:59.114029900Z"
    }
   },
   "outputs": [],
   "source": [
    "import csv\n",
    "\n",
    "# Specify the input and output file paths\n",
    "input_file_path = 'TAURON - BSA - aktualny.csv'\n",
    "output_file_path = 'TAURON_aktualny.csv'\n",
    "name_to_keep = 'bieruńsko-lędziński'  # Specify the name to keep\n",
    "\n",
    "# Read the CSV file\n",
    "with open(input_file_path, 'r', encoding='utf-8') as csvfile:\n",
    "    # Create a CSV reader object\n",
    "    reader = csv.reader(csvfile)\n",
    "\n",
    "    # Read the header\n",
    "    header = next(reader)\n",
    "\n",
    "    # Identify the index of the column containing names\n",
    "    powiat_index = header.index('Powiat')  # Replace 'Name' with the actual column header\n",
    "\n",
    "    # Create a list to store rows that satisfy the condition\n",
    "    filtered_rows = [header]\n",
    "\n",
    "    for row in reader:\n",
    "        # Check if the name is in the specified column\n",
    "        if name_to_keep in row[powiat_index]:\n",
    "            # Append the row to the list\n",
    "            filtered_rows.append(row)\n",
    "\n",
    "# Write the filtered data to a new CSV file\n",
    "with open(output_file_path, 'w', newline='', encoding='utf-8') as csvfile:\n",
    "    # Create a CSV writer object\n",
    "    writer = csv.writer(csvfile)\n",
    "\n",
    "    # Write the filtered rows\n",
    "    writer.writerows(filtered_rows)"
   ]
  },
  {
   "cell_type": "code",
   "execution_count": 7,
   "id": "bbef6059b941e39",
   "metadata": {
    "collapsed": false,
    "ExecuteTime": {
     "end_time": "2024-01-12T00:30:32.531295400Z",
     "start_time": "2024-01-12T00:30:32.504362100Z"
    }
   },
   "outputs": [],
   "source": [
    "import pandas as pd\n",
    "\n",
    "# Specify the input and output file paths\n",
    "input_file_path = 'TAURON_aktualny.csv'\n",
    "output_file_path = 'TAURON_Optic_Fiber.csv'\n",
    "\n",
    "# Read the CSV file into a DataFrame\n",
    "df = pd.read_csv(input_file_path)\n",
    "\n",
    "# Specify the columns to drop\n",
    "columns_to_drop = ['Lp', 'ID CPPC', 'ID Budynku', 'Obszar inwestycyjny TOK',\n",
    "                   'Data gotowości do świadczenia usługi', 'Obszar inwestycyjny TOK',\n",
    "                   'Kod TERC'\n",
    "                   ]# Replace with the actual column names you want to drop\n",
    "\n",
    "\n",
    "\n",
    "# Drop the specified columns\n",
    "df = df.drop(columns=columns_to_drop)\n",
    "\n",
    "# Write the modified DataFrame to a new CSV file\n",
    "df.to_csv(output_file_path, index=False)"
   ]
  },
  {
   "cell_type": "code",
   "execution_count": null,
   "id": "13b83f79ba5cdd25",
   "metadata": {
    "collapsed": false
   },
   "outputs": [],
   "source": []
  }
 ],
 "metadata": {
  "kernelspec": {
   "display_name": "Python 3 (ipykernel)",
   "language": "python",
   "name": "python3"
  },
  "language_info": {
   "codemirror_mode": {
    "name": "ipython",
    "version": 3
   },
   "file_extension": ".py",
   "mimetype": "text/x-python",
   "name": "python",
   "nbconvert_exporter": "python",
   "pygments_lexer": "ipython3",
   "version": "3.12.0"
  }
 },
 "nbformat": 4,
 "nbformat_minor": 5
}
